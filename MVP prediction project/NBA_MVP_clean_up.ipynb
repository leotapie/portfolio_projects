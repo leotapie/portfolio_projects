{
 "cells": [
  {
   "cell_type": "markdown",
   "id": "5e3a2205",
   "metadata": {},
   "source": [
    "# Project: Predicting future NBA Most Valuable Player (MVP)"
   ]
  },
  {
   "cell_type": "markdown",
   "id": "d04e0902",
   "metadata": {},
   "source": [
    "# Part 2: Cleaning, combining and manipulate data in pandas\n",
    "\n",
    "In the second part of this project, we'll clean and prep the data we parsed in part 1 for part 3 (train a ML model to predict MVPs).\n",
    "\n",
    "The aim is to extract, clean and combine into one dataframe the data we'll need from these 3 files:\n",
    "* **mvps.csv** (Awarding ranking)\n",
    "* **players.csv** (Players stats)\n",
    "* **teamss.csv** (Teams stats)\n",
    "\n",
    "We'll also do some quick data exploration at the end. "
   ]
  },
  {
   "cell_type": "code",
   "execution_count": 198,
   "id": "9ba91e60",
   "metadata": {},
   "outputs": [],
   "source": [
    "import pandas as pd"
   ]
  },
  {
   "cell_type": "code",
   "execution_count": 199,
   "id": "d5912687",
   "metadata": {},
   "outputs": [],
   "source": [
    "mvps = pd.read_csv('mvps.csv')\n",
    "players = pd.read_csv('players.csv')\n",
    "teams = pd.read_csv('teams.csv')"
   ]
  },
  {
   "cell_type": "markdown",
   "id": "3da21b46",
   "metadata": {},
   "source": [
    "## MVP votes"
   ]
  },
  {
   "cell_type": "markdown",
   "id": "321ccee8",
   "metadata": {},
   "source": [
    "A lot of the stats data for players with MVP votes is in the **players** dataframe, so we'll only keep the columns we need and discard the rest:"
   ]
  },
  {
   "cell_type": "code",
   "execution_count": 200,
   "id": "429895de",
   "metadata": {},
   "outputs": [],
   "source": [
    "#mvps"
   ]
  },
  {
   "cell_type": "code",
   "execution_count": 201,
   "id": "b8218f14",
   "metadata": {},
   "outputs": [],
   "source": [
    "mvps = mvps[[\"Player\",\"Year\",\"Pts Won\",\"Pts Max\",\"Share\"]]"
   ]
  },
  {
   "cell_type": "code",
   "execution_count": 202,
   "id": "dd826b95",
   "metadata": {
    "collapsed": true
   },
   "outputs": [
    {
     "data": {
      "text/html": [
       "<div>\n",
       "<style scoped>\n",
       "    .dataframe tbody tr th:only-of-type {\n",
       "        vertical-align: middle;\n",
       "    }\n",
       "\n",
       "    .dataframe tbody tr th {\n",
       "        vertical-align: top;\n",
       "    }\n",
       "\n",
       "    .dataframe thead th {\n",
       "        text-align: right;\n",
       "    }\n",
       "</style>\n",
       "<table border=\"1\" class=\"dataframe\">\n",
       "  <thead>\n",
       "    <tr style=\"text-align: right;\">\n",
       "      <th></th>\n",
       "      <th>Player</th>\n",
       "      <th>Year</th>\n",
       "      <th>Pts Won</th>\n",
       "      <th>Pts Max</th>\n",
       "      <th>Share</th>\n",
       "    </tr>\n",
       "  </thead>\n",
       "  <tbody>\n",
       "  </tbody>\n",
       "</table>\n",
       "</div>"
      ],
      "text/plain": [
       "Empty DataFrame\n",
       "Columns: [Player, Year, Pts Won, Pts Max, Share]\n",
       "Index: []"
      ]
     },
     "execution_count": 202,
     "metadata": {},
     "output_type": "execute_result"
    }
   ],
   "source": [
    "# Sanity checks\n",
    "mvps\n",
    "mvps.isna().sum()\n",
    "mvps.dtypes\n",
    "mvps.describe()\n",
    "mvps[mvps.duplicated()]"
   ]
  },
  {
   "cell_type": "markdown",
   "id": "2332891e",
   "metadata": {},
   "source": [
    "## Players Stats"
   ]
  },
  {
   "cell_type": "markdown",
   "id": "70ce4d4c",
   "metadata": {},
   "source": [
    "From the **players** dataframe, we'll remove `Unnamed: 0` and `Rk` (unnecessary) and conduct a few basic checks:"
   ]
  },
  {
   "cell_type": "code",
   "execution_count": 203,
   "id": "ce07398f",
   "metadata": {},
   "outputs": [],
   "source": [
    "#players"
   ]
  },
  {
   "cell_type": "code",
   "execution_count": 204,
   "id": "636cf737",
   "metadata": {},
   "outputs": [],
   "source": [
    "del players[\"Unnamed: 0\"]\n",
    "del players[\"Rk\"]"
   ]
  },
  {
   "cell_type": "code",
   "execution_count": 205,
   "id": "b944fe5b",
   "metadata": {
    "collapsed": true
   },
   "outputs": [
    {
     "data": {
      "text/html": [
       "<div>\n",
       "<style scoped>\n",
       "    .dataframe tbody tr th:only-of-type {\n",
       "        vertical-align: middle;\n",
       "    }\n",
       "\n",
       "    .dataframe tbody tr th {\n",
       "        vertical-align: top;\n",
       "    }\n",
       "\n",
       "    .dataframe thead th {\n",
       "        text-align: right;\n",
       "    }\n",
       "</style>\n",
       "<table border=\"1\" class=\"dataframe\">\n",
       "  <thead>\n",
       "    <tr style=\"text-align: right;\">\n",
       "      <th></th>\n",
       "      <th>Player</th>\n",
       "      <th>Pos</th>\n",
       "      <th>Age</th>\n",
       "      <th>Tm</th>\n",
       "      <th>G</th>\n",
       "      <th>GS</th>\n",
       "      <th>MP</th>\n",
       "      <th>FG</th>\n",
       "      <th>FGA</th>\n",
       "      <th>FG%</th>\n",
       "      <th>...</th>\n",
       "      <th>ORB</th>\n",
       "      <th>DRB</th>\n",
       "      <th>TRB</th>\n",
       "      <th>AST</th>\n",
       "      <th>STL</th>\n",
       "      <th>BLK</th>\n",
       "      <th>TOV</th>\n",
       "      <th>PF</th>\n",
       "      <th>PTS</th>\n",
       "      <th>Year</th>\n",
       "    </tr>\n",
       "  </thead>\n",
       "  <tbody>\n",
       "    <tr>\n",
       "      <th>47</th>\n",
       "      <td>Player</td>\n",
       "      <td>Pos</td>\n",
       "      <td>Age</td>\n",
       "      <td>Tm</td>\n",
       "      <td>G</td>\n",
       "      <td>GS</td>\n",
       "      <td>MP</td>\n",
       "      <td>FG</td>\n",
       "      <td>FGA</td>\n",
       "      <td>FG%</td>\n",
       "      <td>...</td>\n",
       "      <td>ORB</td>\n",
       "      <td>DRB</td>\n",
       "      <td>TRB</td>\n",
       "      <td>AST</td>\n",
       "      <td>STL</td>\n",
       "      <td>BLK</td>\n",
       "      <td>TOV</td>\n",
       "      <td>PF</td>\n",
       "      <td>PTS</td>\n",
       "      <td>1991</td>\n",
       "    </tr>\n",
       "    <tr>\n",
       "      <th>70</th>\n",
       "      <td>Player</td>\n",
       "      <td>Pos</td>\n",
       "      <td>Age</td>\n",
       "      <td>Tm</td>\n",
       "      <td>G</td>\n",
       "      <td>GS</td>\n",
       "      <td>MP</td>\n",
       "      <td>FG</td>\n",
       "      <td>FGA</td>\n",
       "      <td>FG%</td>\n",
       "      <td>...</td>\n",
       "      <td>ORB</td>\n",
       "      <td>DRB</td>\n",
       "      <td>TRB</td>\n",
       "      <td>AST</td>\n",
       "      <td>STL</td>\n",
       "      <td>BLK</td>\n",
       "      <td>TOV</td>\n",
       "      <td>PF</td>\n",
       "      <td>PTS</td>\n",
       "      <td>1991</td>\n",
       "    </tr>\n",
       "    <tr>\n",
       "      <th>93</th>\n",
       "      <td>Player</td>\n",
       "      <td>Pos</td>\n",
       "      <td>Age</td>\n",
       "      <td>Tm</td>\n",
       "      <td>G</td>\n",
       "      <td>GS</td>\n",
       "      <td>MP</td>\n",
       "      <td>FG</td>\n",
       "      <td>FGA</td>\n",
       "      <td>FG%</td>\n",
       "      <td>...</td>\n",
       "      <td>ORB</td>\n",
       "      <td>DRB</td>\n",
       "      <td>TRB</td>\n",
       "      <td>AST</td>\n",
       "      <td>STL</td>\n",
       "      <td>BLK</td>\n",
       "      <td>TOV</td>\n",
       "      <td>PF</td>\n",
       "      <td>PTS</td>\n",
       "      <td>1991</td>\n",
       "    </tr>\n",
       "    <tr>\n",
       "      <th>118</th>\n",
       "      <td>Player</td>\n",
       "      <td>Pos</td>\n",
       "      <td>Age</td>\n",
       "      <td>Tm</td>\n",
       "      <td>G</td>\n",
       "      <td>GS</td>\n",
       "      <td>MP</td>\n",
       "      <td>FG</td>\n",
       "      <td>FGA</td>\n",
       "      <td>FG%</td>\n",
       "      <td>...</td>\n",
       "      <td>ORB</td>\n",
       "      <td>DRB</td>\n",
       "      <td>TRB</td>\n",
       "      <td>AST</td>\n",
       "      <td>STL</td>\n",
       "      <td>BLK</td>\n",
       "      <td>TOV</td>\n",
       "      <td>PF</td>\n",
       "      <td>PTS</td>\n",
       "      <td>1991</td>\n",
       "    </tr>\n",
       "    <tr>\n",
       "      <th>145</th>\n",
       "      <td>Player</td>\n",
       "      <td>Pos</td>\n",
       "      <td>Age</td>\n",
       "      <td>Tm</td>\n",
       "      <td>G</td>\n",
       "      <td>GS</td>\n",
       "      <td>MP</td>\n",
       "      <td>FG</td>\n",
       "      <td>FGA</td>\n",
       "      <td>FG%</td>\n",
       "      <td>...</td>\n",
       "      <td>ORB</td>\n",
       "      <td>DRB</td>\n",
       "      <td>TRB</td>\n",
       "      <td>AST</td>\n",
       "      <td>STL</td>\n",
       "      <td>BLK</td>\n",
       "      <td>TOV</td>\n",
       "      <td>PF</td>\n",
       "      <td>PTS</td>\n",
       "      <td>1991</td>\n",
       "    </tr>\n",
       "    <tr>\n",
       "      <th>...</th>\n",
       "      <td>...</td>\n",
       "      <td>...</td>\n",
       "      <td>...</td>\n",
       "      <td>...</td>\n",
       "      <td>...</td>\n",
       "      <td>...</td>\n",
       "      <td>...</td>\n",
       "      <td>...</td>\n",
       "      <td>...</td>\n",
       "      <td>...</td>\n",
       "      <td>...</td>\n",
       "      <td>...</td>\n",
       "      <td>...</td>\n",
       "      <td>...</td>\n",
       "      <td>...</td>\n",
       "      <td>...</td>\n",
       "      <td>...</td>\n",
       "      <td>...</td>\n",
       "      <td>...</td>\n",
       "      <td>...</td>\n",
       "      <td>...</td>\n",
       "    </tr>\n",
       "    <tr>\n",
       "      <th>19469</th>\n",
       "      <td>Player</td>\n",
       "      <td>Pos</td>\n",
       "      <td>Age</td>\n",
       "      <td>Tm</td>\n",
       "      <td>G</td>\n",
       "      <td>GS</td>\n",
       "      <td>MP</td>\n",
       "      <td>FG</td>\n",
       "      <td>FGA</td>\n",
       "      <td>FG%</td>\n",
       "      <td>...</td>\n",
       "      <td>ORB</td>\n",
       "      <td>DRB</td>\n",
       "      <td>TRB</td>\n",
       "      <td>AST</td>\n",
       "      <td>STL</td>\n",
       "      <td>BLK</td>\n",
       "      <td>TOV</td>\n",
       "      <td>PF</td>\n",
       "      <td>PTS</td>\n",
       "      <td>2023</td>\n",
       "    </tr>\n",
       "    <tr>\n",
       "      <th>19492</th>\n",
       "      <td>Player</td>\n",
       "      <td>Pos</td>\n",
       "      <td>Age</td>\n",
       "      <td>Tm</td>\n",
       "      <td>G</td>\n",
       "      <td>GS</td>\n",
       "      <td>MP</td>\n",
       "      <td>FG</td>\n",
       "      <td>FGA</td>\n",
       "      <td>FG%</td>\n",
       "      <td>...</td>\n",
       "      <td>ORB</td>\n",
       "      <td>DRB</td>\n",
       "      <td>TRB</td>\n",
       "      <td>AST</td>\n",
       "      <td>STL</td>\n",
       "      <td>BLK</td>\n",
       "      <td>TOV</td>\n",
       "      <td>PF</td>\n",
       "      <td>PTS</td>\n",
       "      <td>2023</td>\n",
       "    </tr>\n",
       "    <tr>\n",
       "      <th>19519</th>\n",
       "      <td>Player</td>\n",
       "      <td>Pos</td>\n",
       "      <td>Age</td>\n",
       "      <td>Tm</td>\n",
       "      <td>G</td>\n",
       "      <td>GS</td>\n",
       "      <td>MP</td>\n",
       "      <td>FG</td>\n",
       "      <td>FGA</td>\n",
       "      <td>FG%</td>\n",
       "      <td>...</td>\n",
       "      <td>ORB</td>\n",
       "      <td>DRB</td>\n",
       "      <td>TRB</td>\n",
       "      <td>AST</td>\n",
       "      <td>STL</td>\n",
       "      <td>BLK</td>\n",
       "      <td>TOV</td>\n",
       "      <td>PF</td>\n",
       "      <td>PTS</td>\n",
       "      <td>2023</td>\n",
       "    </tr>\n",
       "    <tr>\n",
       "      <th>19544</th>\n",
       "      <td>Player</td>\n",
       "      <td>Pos</td>\n",
       "      <td>Age</td>\n",
       "      <td>Tm</td>\n",
       "      <td>G</td>\n",
       "      <td>GS</td>\n",
       "      <td>MP</td>\n",
       "      <td>FG</td>\n",
       "      <td>FGA</td>\n",
       "      <td>FG%</td>\n",
       "      <td>...</td>\n",
       "      <td>ORB</td>\n",
       "      <td>DRB</td>\n",
       "      <td>TRB</td>\n",
       "      <td>AST</td>\n",
       "      <td>STL</td>\n",
       "      <td>BLK</td>\n",
       "      <td>TOV</td>\n",
       "      <td>PF</td>\n",
       "      <td>PTS</td>\n",
       "      <td>2023</td>\n",
       "    </tr>\n",
       "    <tr>\n",
       "      <th>19567</th>\n",
       "      <td>Player</td>\n",
       "      <td>Pos</td>\n",
       "      <td>Age</td>\n",
       "      <td>Tm</td>\n",
       "      <td>G</td>\n",
       "      <td>GS</td>\n",
       "      <td>MP</td>\n",
       "      <td>FG</td>\n",
       "      <td>FGA</td>\n",
       "      <td>FG%</td>\n",
       "      <td>...</td>\n",
       "      <td>ORB</td>\n",
       "      <td>DRB</td>\n",
       "      <td>TRB</td>\n",
       "      <td>AST</td>\n",
       "      <td>STL</td>\n",
       "      <td>BLK</td>\n",
       "      <td>TOV</td>\n",
       "      <td>PF</td>\n",
       "      <td>PTS</td>\n",
       "      <td>2023</td>\n",
       "    </tr>\n",
       "  </tbody>\n",
       "</table>\n",
       "<p>712 rows × 30 columns</p>\n",
       "</div>"
      ],
      "text/plain": [
       "       Player  Pos  Age  Tm  G  GS  MP  FG  FGA  FG%  ...  ORB  DRB  TRB  AST  \\\n",
       "47     Player  Pos  Age  Tm  G  GS  MP  FG  FGA  FG%  ...  ORB  DRB  TRB  AST   \n",
       "70     Player  Pos  Age  Tm  G  GS  MP  FG  FGA  FG%  ...  ORB  DRB  TRB  AST   \n",
       "93     Player  Pos  Age  Tm  G  GS  MP  FG  FGA  FG%  ...  ORB  DRB  TRB  AST   \n",
       "118    Player  Pos  Age  Tm  G  GS  MP  FG  FGA  FG%  ...  ORB  DRB  TRB  AST   \n",
       "145    Player  Pos  Age  Tm  G  GS  MP  FG  FGA  FG%  ...  ORB  DRB  TRB  AST   \n",
       "...       ...  ...  ...  .. ..  ..  ..  ..  ...  ...  ...  ...  ...  ...  ...   \n",
       "19469  Player  Pos  Age  Tm  G  GS  MP  FG  FGA  FG%  ...  ORB  DRB  TRB  AST   \n",
       "19492  Player  Pos  Age  Tm  G  GS  MP  FG  FGA  FG%  ...  ORB  DRB  TRB  AST   \n",
       "19519  Player  Pos  Age  Tm  G  GS  MP  FG  FGA  FG%  ...  ORB  DRB  TRB  AST   \n",
       "19544  Player  Pos  Age  Tm  G  GS  MP  FG  FGA  FG%  ...  ORB  DRB  TRB  AST   \n",
       "19567  Player  Pos  Age  Tm  G  GS  MP  FG  FGA  FG%  ...  ORB  DRB  TRB  AST   \n",
       "\n",
       "       STL  BLK  TOV  PF  PTS  Year  \n",
       "47     STL  BLK  TOV  PF  PTS  1991  \n",
       "70     STL  BLK  TOV  PF  PTS  1991  \n",
       "93     STL  BLK  TOV  PF  PTS  1991  \n",
       "118    STL  BLK  TOV  PF  PTS  1991  \n",
       "145    STL  BLK  TOV  PF  PTS  1991  \n",
       "...    ...  ...  ...  ..  ...   ...  \n",
       "19469  STL  BLK  TOV  PF  PTS  2023  \n",
       "19492  STL  BLK  TOV  PF  PTS  2023  \n",
       "19519  STL  BLK  TOV  PF  PTS  2023  \n",
       "19544  STL  BLK  TOV  PF  PTS  2023  \n",
       "19567  STL  BLK  TOV  PF  PTS  2023  \n",
       "\n",
       "[712 rows x 30 columns]"
      ]
     },
     "execution_count": 205,
     "metadata": {},
     "output_type": "execute_result"
    }
   ],
   "source": [
    "# Sanity checks\n",
    "players\n",
    "players.isna().sum()\n",
    "players.dtypes\n",
    "players.describe()\n",
    "\n",
    "players.Player.head(50)\n",
    "players[players.duplicated(subset=['Player','Year'])]\n",
    "players[players.Player == \"Player\"]"
   ]
  },
  {
   "cell_type": "markdown",
   "id": "26eb6c17",
   "metadata": {},
   "source": [
    "Few observation:\n",
    "1. There are some missing data. Seems to mostly be associated with shooting percentage, if a player hasn't got any attempted shots in a category (e.g. FT, 2pts or 3pts) the success rate will be *NaN*. **At first glance nothing to worry about, but worth keeping in mind in**.\n",
    "2. All the data is saved as string rather than numerical, we'll probably need to change that for when it comes to making calcs.\n",
    "3. Some players names contain a \"*\" (denoting that they're been granted the *Hall of Fame* status, we'll remove that character because we'll be merging **mvps** and **players** onto the `Player`and `Year`columns (*Makes sense as most players tend to play for multiple years in the NBA*).\n",
    "4. Some player have multiple rows associated to a given year - this is because they've player for different teams during that season. These players have **TOT** row (marked in the `Tm`column) which represents the total stats over the season, we'll use that row and remove the others. \n",
    "5. Finally, the header row was is duplicated within the dataset (from scraping the data) - we'll remove these. "
   ]
  },
  {
   "cell_type": "code",
   "execution_count": 206,
   "id": "377032c8",
   "metadata": {},
   "outputs": [],
   "source": [
    "# Sort out Player column (1):\n",
    "players[\"Player\"] = players[\"Player\"].str.replace(\"*\", \"\", regex=False)"
   ]
  },
  {
   "cell_type": "code",
   "execution_count": 207,
   "id": "ff49c0e9",
   "metadata": {},
   "outputs": [],
   "source": [
    "# Remove rows that are a duplicate of the header (5):\n",
    "players = players[players['Player'] != \"Player\"]"
   ]
  },
  {
   "cell_type": "code",
   "execution_count": 208,
   "id": "228cf114",
   "metadata": {},
   "outputs": [],
   "source": [
    "# Remove rows for players who played for multiple team in a season (keeping TOT) (4):\n",
    "\n",
    "# This function will be applied to groupby dataframes \n",
    "def single_team(df):\n",
    "    \n",
    "    # If a player/year combination df only has 1 row return that df (i.e. player had 1 team that year)\n",
    "    if df.shape[0] == 1:\n",
    "        return df\n",
    "    \n",
    "    # If a player/year combination df has multiple rows, only return the row where Tm == \"TOT\"\n",
    "    else:\n",
    "        row = df[df[\"Tm\"] == \"TOT\"]\n",
    "        # Set the Tm to the last team the player player for (to enable to merge the teams stats later on)\n",
    "        row[\"Tm\"] = df.iloc[-1,:][\"Tm\"] \n",
    "        return row\n",
    "    \n",
    "# Apply the function above to grouped PLAYER / YEAR \n",
    "players = players.groupby([\"Player\", \"Year\"]).apply(single_team)"
   ]
  },
  {
   "cell_type": "code",
   "execution_count": 209,
   "id": "9c4eb1ad",
   "metadata": {},
   "outputs": [],
   "source": [
    "#players"
   ]
  },
  {
   "cell_type": "code",
   "execution_count": 210,
   "id": "d81167b4",
   "metadata": {},
   "outputs": [],
   "source": [
    "# Because we created groups to deal with issue (4), we've created a multi-level index - we'll remove them: \n",
    "players.index = players.index.droplevel()\n",
    "players.index = players.index.droplevel()"
   ]
  },
  {
   "cell_type": "code",
   "execution_count": 211,
   "id": "5b03708c",
   "metadata": {},
   "outputs": [],
   "source": [
    "#players"
   ]
  },
  {
   "cell_type": "markdown",
   "id": "09593481",
   "metadata": {},
   "source": [
    "## Merging MVP and Player dataframes\n",
    "\n",
    "As mentioned previously, we'll on the `Player` and `Year` columns. We're obviously performing an *outer* merge to include all the players that haven't received MVP votes!\n",
    "\n",
    "To insure consistency and avoid confusing we'll replace the *NaN* values in columns `Pts Won`, `Pts Max` and `Share` for players with no MVP votes by **0** that this merge will create. We can do this with confidence because we previously checked that the initial **mvps** dataframe didn't have *NaN* - therefore we're not generalising actual missing data."
   ]
  },
  {
   "cell_type": "code",
   "execution_count": 212,
   "id": "ebaeba03",
   "metadata": {},
   "outputs": [],
   "source": [
    "# Merge the dfs\n",
    "combined_df = players.merge(mvps, how=\"outer\", on=[\"Player\",\"Year\"])\n",
    "\n",
    "# Replace NaNs by 0\n",
    "combined_df[[\"Pts Won\",\"Pts Max\",\"Share\"]] = combined_df[[\"Pts Won\",\"Pts Max\",\"Share\"]].fillna(0)"
   ]
  },
  {
   "cell_type": "code",
   "execution_count": 213,
   "id": "b0f0af8c",
   "metadata": {},
   "outputs": [],
   "source": [
    "#combined_df"
   ]
  },
  {
   "cell_type": "markdown",
   "id": "d3de5acd",
   "metadata": {},
   "source": [
    "Lastly, because we know the format of our data, we know that this **combined_df** only has stores the team names as abreviations (see columns `Tm`). Therefore, in preperation for the last merge, we're going to use the **nicknames.txt** file we've got to add a complete team name column `Team` to the combined dataframe we've just created."
   ]
  },
  {
   "cell_type": "code",
   "execution_count": 214,
   "id": "375c487e",
   "metadata": {},
   "outputs": [],
   "source": [
    "nicknames = {}\n",
    "with open(\"nicknames.txt\") as f:\n",
    "    lines = f.readlines()\n",
    "    for line in lines[1:]:\n",
    "        abbrev,name = line.replace(\"\\n\",\"\").split(\",\")\n",
    "        nicknames[abbrev] = name"
   ]
  },
  {
   "cell_type": "code",
   "execution_count": 215,
   "id": "0a0b2db4",
   "metadata": {},
   "outputs": [],
   "source": [
    "combined_df[\"Team\"] = combined_df[\"Tm\"].map(nicknames)"
   ]
  },
  {
   "cell_type": "code",
   "execution_count": 216,
   "id": "7b7ace49",
   "metadata": {},
   "outputs": [],
   "source": [
    "#combined_df"
   ]
  },
  {
   "cell_type": "markdown",
   "id": "afa5359d",
   "metadata": {},
   "source": [
    "## Teams Stats"
   ]
  },
  {
   "cell_type": "markdown",
   "id": "f87a4188",
   "metadata": {},
   "source": [
    "Similarly to the 2 previous dataframes, we'll conduct basic checks on the **teams** df:"
   ]
  },
  {
   "cell_type": "code",
   "execution_count": 217,
   "id": "288e2f16",
   "metadata": {},
   "outputs": [],
   "source": [
    "#teams"
   ]
  },
  {
   "cell_type": "code",
   "execution_count": 218,
   "id": "2a1cbbf7",
   "metadata": {},
   "outputs": [],
   "source": [
    "del teams[\"Unnamed: 0\"]"
   ]
  },
  {
   "cell_type": "code",
   "execution_count": 219,
   "id": "bfcf57f3",
   "metadata": {},
   "outputs": [],
   "source": [
    "#teams"
   ]
  },
  {
   "cell_type": "code",
   "execution_count": 220,
   "id": "f56c6126",
   "metadata": {},
   "outputs": [
    {
     "data": {
      "text/html": [
       "<div>\n",
       "<style scoped>\n",
       "    .dataframe tbody tr th:only-of-type {\n",
       "        vertical-align: middle;\n",
       "    }\n",
       "\n",
       "    .dataframe tbody tr th {\n",
       "        vertical-align: top;\n",
       "    }\n",
       "\n",
       "    .dataframe thead th {\n",
       "        text-align: right;\n",
       "    }\n",
       "</style>\n",
       "<table border=\"1\" class=\"dataframe\">\n",
       "  <thead>\n",
       "    <tr style=\"text-align: right;\">\n",
       "      <th></th>\n",
       "      <th>W</th>\n",
       "      <th>L</th>\n",
       "      <th>W/L%</th>\n",
       "      <th>GB</th>\n",
       "      <th>PS/G</th>\n",
       "      <th>PA/G</th>\n",
       "      <th>SRS</th>\n",
       "      <th>Year</th>\n",
       "      <th>Team</th>\n",
       "    </tr>\n",
       "  </thead>\n",
       "  <tbody>\n",
       "  </tbody>\n",
       "</table>\n",
       "</div>"
      ],
      "text/plain": [
       "Empty DataFrame\n",
       "Columns: [W, L, W/L%, GB, PS/G, PA/G, SRS, Year, Team]\n",
       "Index: []"
      ]
     },
     "execution_count": 220,
     "metadata": {},
     "output_type": "execute_result"
    }
   ],
   "source": [
    "# Sanity checks\n",
    "teams\n",
    "teams.isna().sum()\n",
    "teams.dtypes\n",
    "teams.describe()\n",
    "\n",
    "teams.W.head(20)\n",
    "teams[teams.duplicated(subset=['Team','Year'])]"
   ]
  },
  {
   "cell_type": "markdown",
   "id": "af25bd62",
   "metadata": {},
   "source": [
    "Again, we'll do a couple of data cleaning operation to insure we can merge this data with the previous two sets:"
   ]
  },
  {
   "cell_type": "code",
   "execution_count": 221,
   "id": "9e0db0be",
   "metadata": {},
   "outputs": [],
   "source": [
    "# Sort out Team column:\n",
    "teams[\"Team\"] = teams[\"Team\"].str.replace(\"*\", \"\", regex=False)"
   ]
  },
  {
   "cell_type": "code",
   "execution_count": 222,
   "id": "108a0286",
   "metadata": {},
   "outputs": [],
   "source": [
    "# Remove rows that are a duplicate of the header:\n",
    "teams = teams[~teams[\"W\"].str.contains(\"Division\")]"
   ]
  },
  {
   "cell_type": "code",
   "execution_count": 223,
   "id": "f7c8a04d",
   "metadata": {},
   "outputs": [],
   "source": [
    "#teams"
   ]
  },
  {
   "cell_type": "markdown",
   "id": "cd8fddf5",
   "metadata": {},
   "source": [
    "## Last merge to create the overarching *stats* dataframe"
   ]
  },
  {
   "cell_type": "code",
   "execution_count": 224,
   "id": "5855360b",
   "metadata": {},
   "outputs": [],
   "source": [
    "stats = combined_df.merge(teams, how=\"outer\", on=[\"Team\",\"Year\"])"
   ]
  },
  {
   "cell_type": "code",
   "execution_count": 225,
   "id": "85534c9f",
   "metadata": {},
   "outputs": [],
   "source": [
    "#stats"
   ]
  },
  {
   "cell_type": "markdown",
   "id": "3b2d1c1a",
   "metadata": {},
   "source": [
    "Sanity check that our merger has gone to plan:"
   ]
  },
  {
   "cell_type": "code",
   "execution_count": 226,
   "id": "a68f3f7e",
   "metadata": {},
   "outputs": [
    {
     "data": {
      "text/plain": [
       "True"
      ]
     },
     "execution_count": 226,
     "metadata": {},
     "output_type": "execute_result"
    }
   ],
   "source": [
    "len(combined_df) == len(stats)"
   ]
  },
  {
   "cell_type": "markdown",
   "id": "ff5f40b1",
   "metadata": {},
   "source": [
    "## Last clean and inspection of our dataframe before part 3"
   ]
  },
  {
   "cell_type": "markdown",
   "id": "4a757a44",
   "metadata": {},
   "source": [
    "The data that we expect to be stored as numerical appears to be stored as strings, we'll change that to allow us to do calcs, plots and train our ML model. This was likely due to header row duplicates when we scraped the data."
   ]
  },
  {
   "cell_type": "code",
   "execution_count": 227,
   "id": "088e3457",
   "metadata": {
    "collapsed": true
   },
   "outputs": [
    {
     "data": {
      "text/plain": [
       "Player      object\n",
       "Pos         object\n",
       "Age         object\n",
       "Tm          object\n",
       "G           object\n",
       "GS          object\n",
       "MP          object\n",
       "FG          object\n",
       "FGA         object\n",
       "FG%         object\n",
       "3P          object\n",
       "3PA         object\n",
       "3P%         object\n",
       "2P          object\n",
       "2PA         object\n",
       "2P%         object\n",
       "eFG%        object\n",
       "FT          object\n",
       "FTA         object\n",
       "FT%         object\n",
       "ORB         object\n",
       "DRB         object\n",
       "TRB         object\n",
       "AST         object\n",
       "STL         object\n",
       "BLK         object\n",
       "TOV         object\n",
       "PF          object\n",
       "PTS         object\n",
       "Year         int64\n",
       "Pts Won    float64\n",
       "Pts Max    float64\n",
       "Share      float64\n",
       "Team        object\n",
       "W           object\n",
       "L           object\n",
       "W/L%        object\n",
       "GB          object\n",
       "PS/G        object\n",
       "PA/G        object\n",
       "SRS         object\n",
       "dtype: object"
      ]
     },
     "execution_count": 227,
     "metadata": {},
     "output_type": "execute_result"
    }
   ],
   "source": [
    "stats.dtypes"
   ]
  },
  {
   "cell_type": "code",
   "execution_count": 228,
   "id": "f6579972",
   "metadata": {},
   "outputs": [],
   "source": [
    "# Convert data type object to numerical - ignore error because some columns are in fact objects\n",
    "stats = stats.apply(pd.to_numeric, errors='ignore')"
   ]
  },
  {
   "cell_type": "code",
   "execution_count": 229,
   "id": "59de81bf",
   "metadata": {
    "collapsed": true
   },
   "outputs": [
    {
     "data": {
      "text/plain": [
       "Player      object\n",
       "Pos         object\n",
       "Age          int64\n",
       "Tm          object\n",
       "G            int64\n",
       "GS           int64\n",
       "MP         float64\n",
       "FG         float64\n",
       "FGA        float64\n",
       "FG%        float64\n",
       "3P         float64\n",
       "3PA        float64\n",
       "3P%        float64\n",
       "2P         float64\n",
       "2PA        float64\n",
       "2P%        float64\n",
       "eFG%       float64\n",
       "FT         float64\n",
       "FTA        float64\n",
       "FT%        float64\n",
       "ORB        float64\n",
       "DRB        float64\n",
       "TRB        float64\n",
       "AST        float64\n",
       "STL        float64\n",
       "BLK        float64\n",
       "TOV        float64\n",
       "PF         float64\n",
       "PTS        float64\n",
       "Year         int64\n",
       "Pts Won    float64\n",
       "Pts Max    float64\n",
       "Share      float64\n",
       "Team        object\n",
       "W            int64\n",
       "L            int64\n",
       "W/L%       float64\n",
       "GB          object\n",
       "PS/G       float64\n",
       "PA/G       float64\n",
       "SRS        float64\n",
       "dtype: object"
      ]
     },
     "execution_count": 229,
     "metadata": {},
     "output_type": "execute_result"
    }
   ],
   "source": [
    "stats.dtypes"
   ]
  },
  {
   "cell_type": "markdown",
   "id": "ce2b9541",
   "metadata": {},
   "source": [
    "There's only 1 column left that we'd expect to be numerical rather than object: `GB` (i.e., games back). When we take a look at the values in that column we see a \"-\" character being use, we'll make that equal to 0 (no games back):"
   ]
  },
  {
   "cell_type": "code",
   "execution_count": 230,
   "id": "db9439ab",
   "metadata": {
    "collapsed": true
   },
   "outputs": [
    {
     "data": {
      "text/plain": [
       "Player      object\n",
       "Pos         object\n",
       "Age          int64\n",
       "Tm          object\n",
       "G            int64\n",
       "GS           int64\n",
       "MP         float64\n",
       "FG         float64\n",
       "FGA        float64\n",
       "FG%        float64\n",
       "3P         float64\n",
       "3PA        float64\n",
       "3P%        float64\n",
       "2P         float64\n",
       "2PA        float64\n",
       "2P%        float64\n",
       "eFG%       float64\n",
       "FT         float64\n",
       "FTA        float64\n",
       "FT%        float64\n",
       "ORB        float64\n",
       "DRB        float64\n",
       "TRB        float64\n",
       "AST        float64\n",
       "STL        float64\n",
       "BLK        float64\n",
       "TOV        float64\n",
       "PF         float64\n",
       "PTS        float64\n",
       "Year         int64\n",
       "Pts Won    float64\n",
       "Pts Max    float64\n",
       "Share      float64\n",
       "Team        object\n",
       "W            int64\n",
       "L            int64\n",
       "W/L%       float64\n",
       "GB         float64\n",
       "PS/G       float64\n",
       "PA/G       float64\n",
       "SRS        float64\n",
       "dtype: object"
      ]
     },
     "execution_count": 230,
     "metadata": {},
     "output_type": "execute_result"
    }
   ],
   "source": [
    "stats.GB.unique()\n",
    "stats[\"GB\"] = stats[\"GB\"].str.replace(\"—\",\"0\")\n",
    "stats[\"GB\"] = pd.to_numeric(stats[\"GB\"])\n",
    "stats.dtypes"
   ]
  },
  {
   "cell_type": "markdown",
   "id": "7e1d5810",
   "metadata": {},
   "source": [
    "In preperation for part 3, we'll address the *NaN* values in the dataframe (because the ML algorithm we're going to use doesn't accept null values). As we mentioned previously, it looks like *NaN* occure in the percentage columns:"
   ]
  },
  {
   "cell_type": "code",
   "execution_count": 246,
   "id": "f9af20c1",
   "metadata": {
    "collapsed": true
   },
   "outputs": [
    {
     "data": {
      "text/plain": [
       "FG%       61\n",
       "3P%     2102\n",
       "2P%      105\n",
       "eFG%      61\n",
       "FT%      545\n",
       "dtype: int64"
      ]
     },
     "execution_count": 246,
     "metadata": {},
     "output_type": "execute_result"
    }
   ],
   "source": [
    "missing = stats.isna().sum()\n",
    "missing[missing>0]"
   ]
  },
  {
   "cell_type": "markdown",
   "id": "589abcef",
   "metadata": {},
   "source": [
    "We'll verify this by looking attemps (3pts example below): "
   ]
  },
  {
   "cell_type": "code",
   "execution_count": 248,
   "id": "c6404921",
   "metadata": {
    "collapsed": true
   },
   "outputs": [
    {
     "data": {
      "text/html": [
       "<div>\n",
       "<style scoped>\n",
       "    .dataframe tbody tr th:only-of-type {\n",
       "        vertical-align: middle;\n",
       "    }\n",
       "\n",
       "    .dataframe tbody tr th {\n",
       "        vertical-align: top;\n",
       "    }\n",
       "\n",
       "    .dataframe thead th {\n",
       "        text-align: right;\n",
       "    }\n",
       "</style>\n",
       "<table border=\"1\" class=\"dataframe\">\n",
       "  <thead>\n",
       "    <tr style=\"text-align: right;\">\n",
       "      <th></th>\n",
       "      <th>Player</th>\n",
       "      <th>3PA</th>\n",
       "      <th>3P%</th>\n",
       "    </tr>\n",
       "  </thead>\n",
       "  <tbody>\n",
       "    <tr>\n",
       "      <th>2</th>\n",
       "      <td>Elden Campbell</td>\n",
       "      <td>0.0</td>\n",
       "      <td>NaN</td>\n",
       "    </tr>\n",
       "    <tr>\n",
       "      <th>3</th>\n",
       "      <td>Irving Thomas</td>\n",
       "      <td>0.0</td>\n",
       "      <td>NaN</td>\n",
       "    </tr>\n",
       "    <tr>\n",
       "      <th>18</th>\n",
       "      <td>Jack Haley</td>\n",
       "      <td>0.0</td>\n",
       "      <td>NaN</td>\n",
       "    </tr>\n",
       "    <tr>\n",
       "      <th>20</th>\n",
       "      <td>Keith Owens</td>\n",
       "      <td>0.0</td>\n",
       "      <td>NaN</td>\n",
       "    </tr>\n",
       "    <tr>\n",
       "      <th>30</th>\n",
       "      <td>Benoit Benjamin</td>\n",
       "      <td>0.0</td>\n",
       "      <td>NaN</td>\n",
       "    </tr>\n",
       "    <tr>\n",
       "      <th>...</th>\n",
       "      <td>...</td>\n",
       "      <td>...</td>\n",
       "      <td>...</td>\n",
       "    </tr>\n",
       "    <tr>\n",
       "      <th>15205</th>\n",
       "      <td>Evan Eschmeyer</td>\n",
       "      <td>0.0</td>\n",
       "      <td>NaN</td>\n",
       "    </tr>\n",
       "    <tr>\n",
       "      <th>15206</th>\n",
       "      <td>Gheorghe Mureșan</td>\n",
       "      <td>0.0</td>\n",
       "      <td>NaN</td>\n",
       "    </tr>\n",
       "    <tr>\n",
       "      <th>15208</th>\n",
       "      <td>Jim McIlvaine</td>\n",
       "      <td>0.0</td>\n",
       "      <td>NaN</td>\n",
       "    </tr>\n",
       "    <tr>\n",
       "      <th>15214</th>\n",
       "      <td>Mark Hendrickson</td>\n",
       "      <td>0.0</td>\n",
       "      <td>NaN</td>\n",
       "    </tr>\n",
       "    <tr>\n",
       "      <th>15215</th>\n",
       "      <td>Michael Cage</td>\n",
       "      <td>0.0</td>\n",
       "      <td>NaN</td>\n",
       "    </tr>\n",
       "  </tbody>\n",
       "</table>\n",
       "<p>2102 rows × 3 columns</p>\n",
       "</div>"
      ],
      "text/plain": [
       "                 Player  3PA  3P%\n",
       "2        Elden Campbell  0.0  NaN\n",
       "3         Irving Thomas  0.0  NaN\n",
       "18           Jack Haley  0.0  NaN\n",
       "20          Keith Owens  0.0  NaN\n",
       "30      Benoit Benjamin  0.0  NaN\n",
       "...                 ...  ...  ...\n",
       "15205    Evan Eschmeyer  0.0  NaN\n",
       "15206  Gheorghe Mureșan  0.0  NaN\n",
       "15208     Jim McIlvaine  0.0  NaN\n",
       "15214  Mark Hendrickson  0.0  NaN\n",
       "15215      Michael Cage  0.0  NaN\n",
       "\n",
       "[2102 rows x 3 columns]"
      ]
     },
     "execution_count": 248,
     "metadata": {},
     "output_type": "execute_result"
    }
   ],
   "source": [
    "missing_3P = stats[stats[\"3P%\"].isna()][[\"Player\",\"3PA\",\"3P%\"]]\n",
    "missing_3P"
   ]
  },
  {
   "cell_type": "markdown",
   "id": "5256221a",
   "metadata": {},
   "source": [
    "We'll see just below that *attemps* (for all shot types) correlate highly with MVP votes, therefore if a players has no shot attemps it's unlikely that he'll receive votes for MVP. Because of this we'll set the *NaN* to 0 (arbitrary, we know it's not actually right). \n",
    "\n",
    "No attemps in any of the shooting categories also suggest that the player in question plays little minuites or isn't influencial which gives us further confidence that this decision won't affect our prediction. "
   ]
  },
  {
   "cell_type": "code",
   "execution_count": 256,
   "id": "2a9dcfbc",
   "metadata": {},
   "outputs": [],
   "source": [
    "stats = stats.fillna(0)"
   ]
  },
  {
   "cell_type": "markdown",
   "id": "b62a9857",
   "metadata": {},
   "source": [
    "The data is now clean and formated in the way we want so we'll save it to a .csv file:"
   ]
  },
  {
   "cell_type": "code",
   "execution_count": 252,
   "id": "297987b2",
   "metadata": {},
   "outputs": [],
   "source": [
    "stats.to_csv(\"stats_clean.csv\")"
   ]
  },
  {
   "cell_type": "markdown",
   "id": "a932673e",
   "metadata": {},
   "source": [
    "## Exploratory analysis of the data (before creating our ML model in Part 3)"
   ]
  },
  {
   "cell_type": "markdown",
   "id": "620acc89",
   "metadata": {},
   "source": [
    "In part 3 we're going to train an ML model to predict the `Share` of votes a player receives based on his personal and team's stats. Let's take a look at how the different variable correlate to `Share`. \n",
    "\n",
    "For context: **Share = Pts Won / Pts Max** \n",
    "\n",
    "*\"A panel of 100 voters selected by the NBA. Each voter submits a ballot with their top five choices for MVP, and points are awarded on a scale of 10-7-5-3-1 for each player, with the player receiving the most total points being awarded the MVP award.\"*"
   ]
  },
  {
   "cell_type": "code",
   "execution_count": 253,
   "id": "7822dac4",
   "metadata": {
    "scrolled": false
   },
   "outputs": [
    {
     "data": {
      "text/plain": [
       "<Axes: >"
      ]
     },
     "execution_count": 253,
     "metadata": {},
     "output_type": "execute_result"
    },
    {
     "data": {
      "image/png": "[encoded data removed]",
      "text/plain": [
       "<Figure size 640x480 with 1 Axes>"
      ]
     },
     "metadata": {},
     "output_type": "display_data"
    }
   ],
   "source": [
    "# Correlation only works on numerical columns\n",
    "numerical_stats = stats.select_dtypes(include=['number'])\n",
    "\n",
    "# Correlate and sort \n",
    "share_corr = numerical_columns.corr()[\"Share\"].sort_values(ascending=False)\n",
    "\n",
    "# Plot bar chart of correlation coeff, removing first 3 variable (\"Share\", \"Pts Won\" & \"Pts Max\")\n",
    "share_corr[3:].plot.bar()"
   ]
  },
  {
   "cell_type": "markdown",
   "id": "4bb45541",
   "metadata": {},
   "source": [
    "As expected scoring, assists, defensive rebounds and steals are highly correlated. Interestingly 3pts are significantly less correlated comapres to FT and 2pts. High team losses are negatively correlated, no suprises there."
   ]
  },
  {
   "cell_type": "markdown",
   "id": "d28a33ea",
   "metadata": {},
   "source": [
    "**There is loads of visualisation that could be done with this dataset - maybe something we'll look at in Tableau in the future! For now, on to part 3!**"
   ]
  }
 ],
 "metadata": {
  "kernelspec": {
   "display_name": "Python 3 (ipykernel)",
   "language": "python",
   "name": "python3"
  },
  "language_info": {
   "codemirror_mode": {
    "name": "ipython",
    "version": 3
   },
   "file_extension": ".py",
   "mimetype": "text/x-python",
   "name": "python",
   "nbconvert_exporter": "python",
   "pygments_lexer": "ipython3",
   "version": "3.10.9"
  }
 },
 "nbformat": 4,
 "nbformat_minor": 5
}
