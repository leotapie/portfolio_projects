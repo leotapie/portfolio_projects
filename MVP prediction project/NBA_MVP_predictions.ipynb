{
 "cells": [
  {
   "cell_type": "markdown",
   "id": "15e40de2",
   "metadata": {},
   "source": [
    "# Project: Predicting future NBA Most Valuable Player (MVP)"
   ]
  },
  {
   "cell_type": "markdown",
   "id": "80d56389",
   "metadata": {},
   "source": [
    "# Part 3: Predict the MVP Vote Share of players based on their stats"
   ]
  },
  {
   "cell_type": "markdown",
   "id": "847978cd",
   "metadata": {},
   "source": [
    "## Define the predictors we want to use"
   ]
  },
  {
   "cell_type": "code",
   "execution_count": 1,
   "id": "c46ad706",
   "metadata": {},
   "outputs": [],
   "source": [
    "import pandas as pd"
   ]
  },
  {
   "cell_type": "code",
   "execution_count": 2,
   "id": "1483743e",
   "metadata": {},
   "outputs": [],
   "source": [
    "stats = pd.read_csv('stats_clean.csv')"
   ]
  },
  {
   "cell_type": "code",
   "execution_count": 3,
   "id": "23cd0634",
   "metadata": {},
   "outputs": [
    {
     "data": {
      "text/plain": [
       "Index(['Unnamed: 0', 'Player', 'Pos', 'Age', 'Tm', 'G', 'GS', 'MP', 'FG',\n",
       "       'FGA', 'FG%', '3P', '3PA', '3P%', '2P', '2PA', '2P%', 'eFG%', 'FT',\n",
       "       'FTA', 'FT%', 'ORB', 'DRB', 'TRB', 'AST', 'STL', 'BLK', 'TOV', 'PF',\n",
       "       'PTS', 'Year', 'Pts Won', 'Pts Max', 'Share', 'Team', 'W', 'L', 'W/L%',\n",
       "       'GB', 'PS/G', 'PA/G', 'SRS'],\n",
       "      dtype='object')"
      ]
     },
     "execution_count": 3,
     "metadata": {},
     "output_type": "execute_result"
    }
   ],
   "source": [
    "stats.columns"
   ]
  },
  {
   "cell_type": "code",
   "execution_count": 4,
   "id": "edd50e92",
   "metadata": {},
   "outputs": [],
   "source": [
    "del stats['Unnamed: 0']"
   ]
  },
  {
   "cell_type": "markdown",
   "id": "63abe7db",
   "metadata": {},
   "source": [
    "Let's define our predictors (i.e. the columns we want to use to predict the MVP for a given season). We'll remove the *object* columns (`Player`, `Pos`, `Tm`& `Team`) as well as the variable directly related to `Share` (`Pts Won`, `Pts Max`, `Share`)."
   ]
  },
  {
   "cell_type": "code",
   "execution_count": 5,
   "id": "d2a332e2",
   "metadata": {},
   "outputs": [],
   "source": [
    "predictors = ['Age', 'G', 'GS', 'MP', 'FG',\n",
    "       'FGA', 'FG%', '3P', '3PA', '3P%', '2P', '2PA', '2P%', 'eFG%', 'FT',\n",
    "       'FTA', 'FT%', 'ORB', 'DRB', 'TRB', 'AST', 'STL', 'BLK', 'TOV', 'PF',\n",
    "       'PTS', 'Year', 'W', 'L', 'W/L%',\n",
    "       'GB', 'PS/G', 'PA/G', 'SRS']"
   ]
  },
  {
   "cell_type": "markdown",
   "id": "978b12d5",
   "metadata": {},
   "source": [
    "## Define train/test datasets for a single year (2023) & run our fist prediction"
   ]
  },
  {
   "cell_type": "markdown",
   "id": "d033c869",
   "metadata": {},
   "source": [
    "Next, we need to define our **train** and **test** dataframes which will respectively be used to train the ML model and then test it. We'll use the stats up to but not including **2023** to train our model and then test on **2023**. Obviously, we don't want to include the test data into the model training! \n",
    "\n",
    "If we had 2024 stat data, we could do a *real life* scenario to predict the 2024 MVP but as of today the season has only just started - maybe something to come back to in a few months! Anyway, we'll be able to assess how well our model as done because we actually know the outcome of the 2023 MVP vote. "
   ]
  },
  {
   "cell_type": "code",
   "execution_count": 6,
   "id": "d6212ddf",
   "metadata": {},
   "outputs": [],
   "source": [
    "train = stats[stats[\"Year\"] < 2023]"
   ]
  },
  {
   "cell_type": "code",
   "execution_count": 7,
   "id": "5fd77cdc",
   "metadata": {},
   "outputs": [],
   "source": [
    "test = stats[stats[\"Year\"] == 2023]"
   ]
  },
  {
   "cell_type": "markdown",
   "id": "a12f0992",
   "metadata": {},
   "source": [
    "We're going to use a fairly simple model to start with: Ridge Regression (form of linear regression to avoid over-fitting by shrinking the *alpha* coefficient)"
   ]
  },
  {
   "cell_type": "code",
   "execution_count": 8,
   "id": "8015dd51",
   "metadata": {},
   "outputs": [],
   "source": [
    "# Import the model\n",
    "from sklearn.linear_model import Ridge\n",
    "\n",
    "# Initialise the model (we'll play around with alpha to see the impact)\n",
    "reg = Ridge(alpha=0.1)"
   ]
  },
  {
   "cell_type": "code",
   "execution_count": 9,
   "id": "944d9189",
   "metadata": {},
   "outputs": [
    {
     "data": {
      "text/html": [
       "<style>#sk-container-id-1 {color: black;background-color: white;}#sk-container-id-1 pre{padding: 0;}#sk-container-id-1 div.sk-toggleable {background-color: white;}#sk-container-id-1 label.sk-toggleable__label {cursor: pointer;display: block;width: 100%;margin-bottom: 0;padding: 0.3em;box-sizing: border-box;text-align: center;}#sk-container-id-1 label.sk-toggleable__label-arrow:before {content: \"▸\";float: left;margin-right: 0.25em;color: #696969;}#sk-container-id-1 label.sk-toggleable__label-arrow:hover:before {color: black;}#sk-container-id-1 div.sk-estimator:hover label.sk-toggleable__label-arrow:before {color: black;}#sk-container-id-1 div.sk-toggleable__content {max-height: 0;max-width: 0;overflow: hidden;text-align: left;background-color: #f0f8ff;}#sk-container-id-1 div.sk-toggleable__content pre {margin: 0.2em;color: black;border-radius: 0.25em;background-color: #f0f8ff;}#sk-container-id-1 input.sk-toggleable__control:checked~div.sk-toggleable__content {max-height: 200px;max-width: 100%;overflow: auto;}#sk-container-id-1 input.sk-toggleable__control:checked~label.sk-toggleable__label-arrow:before {content: \"▾\";}#sk-container-id-1 div.sk-estimator input.sk-toggleable__control:checked~label.sk-toggleable__label {background-color: #d4ebff;}#sk-container-id-1 div.sk-label input.sk-toggleable__control:checked~label.sk-toggleable__label {background-color: #d4ebff;}#sk-container-id-1 input.sk-hidden--visually {border: 0;clip: rect(1px 1px 1px 1px);clip: rect(1px, 1px, 1px, 1px);height: 1px;margin: -1px;overflow: hidden;padding: 0;position: absolute;width: 1px;}#sk-container-id-1 div.sk-estimator {font-family: monospace;background-color: #f0f8ff;border: 1px dotted black;border-radius: 0.25em;box-sizing: border-box;margin-bottom: 0.5em;}#sk-container-id-1 div.sk-estimator:hover {background-color: #d4ebff;}#sk-container-id-1 div.sk-parallel-item::after {content: \"\";width: 100%;border-bottom: 1px solid gray;flex-grow: 1;}#sk-container-id-1 div.sk-label:hover label.sk-toggleable__label {background-color: #d4ebff;}#sk-container-id-1 div.sk-serial::before {content: \"\";position: absolute;border-left: 1px solid gray;box-sizing: border-box;top: 0;bottom: 0;left: 50%;z-index: 0;}#sk-container-id-1 div.sk-serial {display: flex;flex-direction: column;align-items: center;background-color: white;padding-right: 0.2em;padding-left: 0.2em;position: relative;}#sk-container-id-1 div.sk-item {position: relative;z-index: 1;}#sk-container-id-1 div.sk-parallel {display: flex;align-items: stretch;justify-content: center;background-color: white;position: relative;}#sk-container-id-1 div.sk-item::before, #sk-container-id-1 div.sk-parallel-item::before {content: \"\";position: absolute;border-left: 1px solid gray;box-sizing: border-box;top: 0;bottom: 0;left: 50%;z-index: -1;}#sk-container-id-1 div.sk-parallel-item {display: flex;flex-direction: column;z-index: 1;position: relative;background-color: white;}#sk-container-id-1 div.sk-parallel-item:first-child::after {align-self: flex-end;width: 50%;}#sk-container-id-1 div.sk-parallel-item:last-child::after {align-self: flex-start;width: 50%;}#sk-container-id-1 div.sk-parallel-item:only-child::after {width: 0;}#sk-container-id-1 div.sk-dashed-wrapped {border: 1px dashed gray;margin: 0 0.4em 0.5em 0.4em;box-sizing: border-box;padding-bottom: 0.4em;background-color: white;}#sk-container-id-1 div.sk-label label {font-family: monospace;font-weight: bold;display: inline-block;line-height: 1.2em;}#sk-container-id-1 div.sk-label-container {text-align: center;}#sk-container-id-1 div.sk-container {/* jupyter's `normalize.less` sets `[hidden] { display: none; }` but bootstrap.min.css set `[hidden] { display: none !important; }` so we also need the `!important` here to be able to override the default hidden behavior on the sphinx rendered scikit-learn.org. See: https://github.com/scikit-learn/scikit-learn/issues/21755 */display: inline-block !important;position: relative;}#sk-container-id-1 div.sk-text-repr-fallback {display: none;}</style><div id=\"sk-container-id-1\" class=\"sk-top-container\"><div class=\"sk-text-repr-fallback\"><pre>Ridge(alpha=0.1)</pre><b>In a Jupyter environment, please rerun this cell to show the HTML representation or trust the notebook. <br />On GitHub, the HTML representation is unable to render, please try loading this page with nbviewer.org.</b></div><div class=\"sk-container\" hidden><div class=\"sk-item\"><div class=\"sk-estimator sk-toggleable\"><input class=\"sk-toggleable__control sk-hidden--visually\" id=\"sk-estimator-id-1\" type=\"checkbox\" checked><label for=\"sk-estimator-id-1\" class=\"sk-toggleable__label sk-toggleable__label-arrow\">Ridge</label><div class=\"sk-toggleable__content\"><pre>Ridge(alpha=0.1)</pre></div></div></div></div></div>"
      ],
      "text/plain": [
       "Ridge(alpha=0.1)"
      ]
     },
     "execution_count": 9,
     "metadata": {},
     "output_type": "execute_result"
    }
   ],
   "source": [
    "# Fit our model: using the *train* df\n",
    "reg.fit(train[predictors], train[\"Share\"])"
   ]
  },
  {
   "cell_type": "code",
   "execution_count": 10,
   "id": "cd16fc99",
   "metadata": {},
   "outputs": [],
   "source": [
    "# Run predictions for 2023 using the *test* df\n",
    "predictions = reg.predict(test[predictors])"
   ]
  },
  {
   "cell_type": "markdown",
   "id": "92f7929f",
   "metadata": {},
   "source": [
    "## Define a relevant error metric and take a look at model performance"
   ]
  },
  {
   "cell_type": "markdown",
   "id": "59490f4f",
   "metadata": {},
   "source": [
    "We've now predicted the **MVP vote share** for all players in 2023! The output of the model prediction is a NumPy array, we'll convert it to a df so it's easier to work with (we'll set the index to match the test dataframe for consistency). And we'll combine the **test** and **predictions** into one df to see how the model has performed. *Note: the **test** df contains all the columns (incl. `Share` - but the predictors that we used did not!)*"
   ]
  },
  {
   "cell_type": "code",
   "execution_count": 11,
   "id": "340d4525",
   "metadata": {},
   "outputs": [],
   "source": [
    "predictions = pd.DataFrame(predictions, columns=[\"Predictions\"], index=test.index)"
   ]
  },
  {
   "cell_type": "code",
   "execution_count": 12,
   "id": "c7d60a70",
   "metadata": {},
   "outputs": [],
   "source": [
    "# Only interested in the players and there actual Share of votes, not all the stats\n",
    "combination = pd.concat([test[[\"Player\", \"Share\"]], predictions], axis=1) "
   ]
  },
  {
   "cell_type": "code",
   "execution_count": 13,
   "id": "47efdc41",
   "metadata": {},
   "outputs": [
    {
     "data": {
      "text/html": [
       "<div>\n",
       "<style scoped>\n",
       "    .dataframe tbody tr th:only-of-type {\n",
       "        vertical-align: middle;\n",
       "    }\n",
       "\n",
       "    .dataframe tbody tr th {\n",
       "        vertical-align: top;\n",
       "    }\n",
       "\n",
       "    .dataframe thead th {\n",
       "        text-align: right;\n",
       "    }\n",
       "</style>\n",
       "<table border=\"1\" class=\"dataframe\">\n",
       "  <thead>\n",
       "    <tr style=\"text-align: right;\">\n",
       "      <th></th>\n",
       "      <th>Player</th>\n",
       "      <th>Share</th>\n",
       "      <th>Predictions</th>\n",
       "    </tr>\n",
       "  </thead>\n",
       "  <tbody>\n",
       "    <tr>\n",
       "      <th>14849</th>\n",
       "      <td>Joel Embiid</td>\n",
       "      <td>0.915</td>\n",
       "      <td>0.201829</td>\n",
       "    </tr>\n",
       "    <tr>\n",
       "      <th>736</th>\n",
       "      <td>Nikola Jokić</td>\n",
       "      <td>0.674</td>\n",
       "      <td>0.173426</td>\n",
       "    </tr>\n",
       "    <tr>\n",
       "      <th>214</th>\n",
       "      <td>Giannis Antetokounmpo</td>\n",
       "      <td>0.606</td>\n",
       "      <td>0.225130</td>\n",
       "    </tr>\n",
       "    <tr>\n",
       "      <th>2898</th>\n",
       "      <td>Jayson Tatum</td>\n",
       "      <td>0.280</td>\n",
       "      <td>0.137573</td>\n",
       "    </tr>\n",
       "    <tr>\n",
       "      <th>1322</th>\n",
       "      <td>Shai Gilgeous-Alexander</td>\n",
       "      <td>0.046</td>\n",
       "      <td>0.148548</td>\n",
       "    </tr>\n",
       "    <tr>\n",
       "      <th>13682</th>\n",
       "      <td>Donovan Mitchell</td>\n",
       "      <td>0.030</td>\n",
       "      <td>0.086236</td>\n",
       "    </tr>\n",
       "    <tr>\n",
       "      <th>4274</th>\n",
       "      <td>Domantas Sabonis</td>\n",
       "      <td>0.027</td>\n",
       "      <td>0.092882</td>\n",
       "    </tr>\n",
       "    <tr>\n",
       "      <th>306</th>\n",
       "      <td>Luka Dončić</td>\n",
       "      <td>0.010</td>\n",
       "      <td>0.195437</td>\n",
       "    </tr>\n",
       "    <tr>\n",
       "      <th>6686</th>\n",
       "      <td>Stephen Curry</td>\n",
       "      <td>0.005</td>\n",
       "      <td>0.106767</td>\n",
       "    </tr>\n",
       "    <tr>\n",
       "      <th>10869</th>\n",
       "      <td>Jimmy Butler</td>\n",
       "      <td>0.003</td>\n",
       "      <td>0.109476</td>\n",
       "    </tr>\n",
       "  </tbody>\n",
       "</table>\n",
       "</div>"
      ],
      "text/plain": [
       "                        Player  Share  Predictions\n",
       "14849              Joel Embiid  0.915     0.201829\n",
       "736               Nikola Jokić  0.674     0.173426\n",
       "214      Giannis Antetokounmpo  0.606     0.225130\n",
       "2898              Jayson Tatum  0.280     0.137573\n",
       "1322   Shai Gilgeous-Alexander  0.046     0.148548\n",
       "13682         Donovan Mitchell  0.030     0.086236\n",
       "4274          Domantas Sabonis  0.027     0.092882\n",
       "306                Luka Dončić  0.010     0.195437\n",
       "6686             Stephen Curry  0.005     0.106767\n",
       "10869             Jimmy Butler  0.003     0.109476"
      ]
     },
     "execution_count": 13,
     "metadata": {},
     "output_type": "execute_result"
    }
   ],
   "source": [
    "# How did the model perform? Sort by actual Share\n",
    "combination.sort_values(\"Share\",ascending=False).head(10)"
   ]
  },
  {
   "cell_type": "code",
   "execution_count": 14,
   "id": "f2aefede",
   "metadata": {},
   "outputs": [
    {
     "data": {
      "text/html": [
       "<div>\n",
       "<style scoped>\n",
       "    .dataframe tbody tr th:only-of-type {\n",
       "        vertical-align: middle;\n",
       "    }\n",
       "\n",
       "    .dataframe tbody tr th {\n",
       "        vertical-align: top;\n",
       "    }\n",
       "\n",
       "    .dataframe thead th {\n",
       "        text-align: right;\n",
       "    }\n",
       "</style>\n",
       "<table border=\"1\" class=\"dataframe\">\n",
       "  <thead>\n",
       "    <tr style=\"text-align: right;\">\n",
       "      <th></th>\n",
       "      <th>Player</th>\n",
       "      <th>Share</th>\n",
       "      <th>Predictions</th>\n",
       "    </tr>\n",
       "  </thead>\n",
       "  <tbody>\n",
       "    <tr>\n",
       "      <th>214</th>\n",
       "      <td>Giannis Antetokounmpo</td>\n",
       "      <td>0.606</td>\n",
       "      <td>0.225130</td>\n",
       "    </tr>\n",
       "    <tr>\n",
       "      <th>14849</th>\n",
       "      <td>Joel Embiid</td>\n",
       "      <td>0.915</td>\n",
       "      <td>0.201829</td>\n",
       "    </tr>\n",
       "    <tr>\n",
       "      <th>306</th>\n",
       "      <td>Luka Dončić</td>\n",
       "      <td>0.010</td>\n",
       "      <td>0.195437</td>\n",
       "    </tr>\n",
       "    <tr>\n",
       "      <th>736</th>\n",
       "      <td>Nikola Jokić</td>\n",
       "      <td>0.674</td>\n",
       "      <td>0.173426</td>\n",
       "    </tr>\n",
       "    <tr>\n",
       "      <th>1322</th>\n",
       "      <td>Shai Gilgeous-Alexander</td>\n",
       "      <td>0.046</td>\n",
       "      <td>0.148548</td>\n",
       "    </tr>\n",
       "    <tr>\n",
       "      <th>11528</th>\n",
       "      <td>Kevin Durant</td>\n",
       "      <td>0.000</td>\n",
       "      <td>0.141083</td>\n",
       "    </tr>\n",
       "    <tr>\n",
       "      <th>8563</th>\n",
       "      <td>Anthony Davis</td>\n",
       "      <td>0.000</td>\n",
       "      <td>0.140287</td>\n",
       "    </tr>\n",
       "    <tr>\n",
       "      <th>2898</th>\n",
       "      <td>Jayson Tatum</td>\n",
       "      <td>0.280</td>\n",
       "      <td>0.137573</td>\n",
       "    </tr>\n",
       "    <tr>\n",
       "      <th>8083</th>\n",
       "      <td>Damian Lillard</td>\n",
       "      <td>0.000</td>\n",
       "      <td>0.136843</td>\n",
       "    </tr>\n",
       "    <tr>\n",
       "      <th>8570</th>\n",
       "      <td>LeBron James</td>\n",
       "      <td>0.000</td>\n",
       "      <td>0.133830</td>\n",
       "    </tr>\n",
       "  </tbody>\n",
       "</table>\n",
       "</div>"
      ],
      "text/plain": [
       "                        Player  Share  Predictions\n",
       "214      Giannis Antetokounmpo  0.606     0.225130\n",
       "14849              Joel Embiid  0.915     0.201829\n",
       "306                Luka Dončić  0.010     0.195437\n",
       "736               Nikola Jokić  0.674     0.173426\n",
       "1322   Shai Gilgeous-Alexander  0.046     0.148548\n",
       "11528             Kevin Durant  0.000     0.141083\n",
       "8563             Anthony Davis  0.000     0.140287\n",
       "2898              Jayson Tatum  0.280     0.137573\n",
       "8083            Damian Lillard  0.000     0.136843\n",
       "8570              LeBron James  0.000     0.133830"
      ]
     },
     "execution_count": 14,
     "metadata": {},
     "output_type": "execute_result"
    }
   ],
   "source": [
    "# How did the model perform? Sort by Predictions\n",
    "combination.sort_values(\"Predictions\",ascending=False).head(10)"
   ]
  },
  {
   "cell_type": "markdown",
   "id": "2d0497e7",
   "metadata": {},
   "source": [
    "The aim of this analysis is to predict who's going to be the next MVP (and the top 5, if we want to extend the scope) - so we are interest in the **rank of predictions** not the absolute values predicted!\n",
    "\n",
    "A quick scan through the two tables above tells us that our model didn't predict the MVP correctly but did manage to get 6/10 in the Top 10 correctly. Whether the model performed better or worse than we've just observed, we need to define an error metric that will tell us **how well** the model has performe (this metric needs to be relevant in the context of what we're looking at!). \n",
    "\n",
    "In this case we're not trying to accurately predict the vote share for all players (vast majority don't get any votes anyway) - instead we can decide that for this analysis success is: **predict the Top 5**. Our error metric should therefore give us an understanding of how well our model has done that. \n",
    "\n",
    "We'll start by defining a function that add the ranks:"
   ]
  },
  {
   "cell_type": "code",
   "execution_count": 15,
   "id": "1f7d4322",
   "metadata": {},
   "outputs": [],
   "source": [
    "def add_ranks(combination):\n",
    "    # Actual Share rank\n",
    "    combination = combination.sort_values([\"Share\"], ascending=False)\n",
    "    combination[\"Rank\"] = list(range(1,combination.shape[0]+1))\n",
    "    \n",
    "    # Predicted rank\n",
    "    combination = combination.sort_values([\"Predictions\"], ascending=False)\n",
    "    combination[\"Predicted_Rank\"] = list(range(1,combination.shape[0]+1)) \n",
    "    \n",
    "    # Difference\n",
    "    combination[\"Difference\"] = combination.Rank - combination.Predicted_Rank\n",
    "    \n",
    "    return combination"
   ]
  },
  {
   "cell_type": "markdown",
   "id": "6988dcc6",
   "metadata": {},
   "source": [
    "We've create a function that will return our error metric - closer to 1 the best our model has performed. The functions assess how well the model has predicted the Top \"X\" (we'll use 5 as our example). The function assess each predicted rank compared to the actual MVP rank, and averages it over the Top X.\n",
    "\n",
    "We've arbitrarly quantified success:\n",
    "* Exact position predicted = 1\n",
    "* Prediction in the Top X but not at the correct position (formula, see below)\n",
    "* Prediction not in the Top X (other formula, see below)"
   ]
  },
  {
   "cell_type": "code",
   "execution_count": 16,
   "id": "feec9fc3",
   "metadata": {},
   "outputs": [],
   "source": [
    "# Create a function to define and calulate our error metric\n",
    "def find_avg_precision_top_X(combination,topX=5):\n",
    "    \n",
    "    combination = add_ranks(combination)\n",
    "    \n",
    "    # Initialise our metric\n",
    "    metric = []\n",
    "    \n",
    "    for i in range(topX):\n",
    "        if combination.Rank.iloc[i] <= topX:\n",
    "            if combination.Rank.iloc[i] == combination.Predicted_Rank.iloc[i]:\n",
    "                m = 1                \n",
    "            else:\n",
    "                m = 0.7 + 0.3 * 1/(abs(combination.Rank.iloc[i] - combination.Predicted_Rank.iloc[i])+1)\n",
    "        else:\n",
    "            m = 0.3 + 0.7 * 1/(abs(combination.Rank.iloc[i] - combination.Predicted_Rank.iloc[i])+1)\n",
    "            \n",
    "        metric.append(m)\n",
    "    \n",
    "    # Return metric    \n",
    "    return sum(metric)/len(metric)"
   ]
  },
  {
   "cell_type": "code",
   "execution_count": 17,
   "id": "304d7ce6",
   "metadata": {},
   "outputs": [
    {
     "data": {
      "text/plain": [
       "0.7733333333333332"
      ]
     },
     "execution_count": 17,
     "metadata": {},
     "output_type": "execute_result"
    }
   ],
   "source": [
    "find_avg_precision_top_X(combination,topX=5)"
   ]
  },
  {
   "cell_type": "markdown",
   "id": "dbc40e82",
   "metadata": {},
   "source": [
    "We've now defined an error metric and assessed how the model performed for predicting the 2023 vote share. Only testing the model on a single year can be missleading (2023 could have been a rogue year for any reason) and doesn't allow for any comparision (a singular error metric on its own doesn't tell us anything - especially when arbitrarily defined).\n",
    "\n",
    "So instead we're going to create a **back-testing function** to which we'll pass a stat `dataframe`, a `model`, the `TopX` parameter for our error metric and the list of `predictors` to use. The function will iteratively run multiple predictions (i.e., predict Share for year **n** by training the model on year **1 to n-1**). \n",
    "\n",
    "The outputs are: the **mean avgerage precision** (average of all average precision metrics), the list of **average precisions** and a dataframe of **all predictions** (for each iteration)."
   ]
  },
  {
   "cell_type": "code",
   "execution_count": 18,
   "id": "6cbc1696",
   "metadata": {},
   "outputs": [],
   "source": [
    "def backtest(stats=stats, predictors=predictors, model=reg, topX=5, startYear=1996):\n",
    "    \n",
    "    # Set years\n",
    "    years = list(range(min(stats.Year),max(stats.Year)+1))\n",
    "    \n",
    "    # Check the start year is above the minimum of [min(years)+5]\n",
    "    if startYear < min(stats.Year)+5:\n",
    "        raise ValueError(f\"\"\"\n",
    "        The start year needs to be above or equal to {min(stats.Year)+5} in order to train the model \n",
    "        with at least have 5 years worth of data for the first iteration.\n",
    "        \"\"\")\n",
    "\n",
    "    # Initialise the \"avergae precision\" and \"all predictions\" lists\n",
    "    aps = []\n",
    "    all_predictions = []\n",
    "    \n",
    "    # Train and test the model iteratively (back-testing)\n",
    "    for year in years[years.index(startYear):]:\n",
    "                \n",
    "        train = stats[stats[\"Year\"] < year]\n",
    "        test = stats[stats[\"Year\"] == year]\n",
    "        model.fit(train[predictors],train[\"Share\"])\n",
    "        predictions = model.predict(test[predictors])\n",
    "        predictions = pd.DataFrame(predictions, columns=[\"Predictions\"], index=test.index)\n",
    "        combination = pd.concat([test[[\"Player\", \"Share\"]], predictions], axis=1)\n",
    "        combination = add_ranks(combination)\n",
    "        combination[\"Year\"] = year\n",
    "        all_predictions.append(combination)\n",
    "        aps.append(find_avg_precision_top_X(combination,topX))\n",
    "    \n",
    "    # Return the \"mean avgerage precision\" and a dataframe containing \"all predictions\"\n",
    "    return sum(aps)/len(aps), aps, pd.concat(all_predictions)"
   ]
  },
  {
   "cell_type": "code",
   "execution_count": 19,
   "id": "5000a3f6",
   "metadata": {},
   "outputs": [],
   "source": [
    "mean_avg_precision, avg_precisions, all_predictions = backtest(\n",
    "    stats, predictors, model=reg, topX=5, startYear=1996)"
   ]
  },
  {
   "cell_type": "markdown",
   "id": "578448f1",
   "metadata": {},
   "source": [
    "Now that we have multiple performance indicators (thanks to the iterative back-testing we've just run), let's take a look at our error metric: "
   ]
  },
  {
   "cell_type": "code",
   "execution_count": 20,
   "id": "0cab9935",
   "metadata": {},
   "outputs": [],
   "source": [
    "import matplotlib.pyplot as plt\n",
    "import seaborn as sns\n",
    "import numpy as np\n",
    "\n",
    "def track_error_metric(stats=stats, predictors=predictors, model=reg, topX=5, startYear=1996):\n",
    "    \n",
    "    # Call on back-testing function & set years\n",
    "    mean_avg_precision, avg_precisions, all_predictions = backtest(\n",
    "        stats, predictors, model, topX, startYear)\n",
    "    \n",
    "    years = list(range(min(stats.Year),max(stats.Year)+1))\n",
    "\n",
    "    # initialise the figure\n",
    "    fig, axes = plt.subplots(1, 2, figsize=(10, 4))\n",
    "\n",
    "    # Plot a bar chart in 1st tile\n",
    "    axes[0].bar(range(len(avg_precisions)), avg_precisions, color='skyblue')\n",
    "    axes[0].axhline(mean_avg_precision, color='red', linestyle='dashed', linewidth=1, label='Mean')\n",
    "    axes[0].text(len(avg_precisions), mean_avg_precision, f'Mean: {mean_avg_precision:.3f}', \n",
    "             color='red', verticalalignment='bottom', horizontalalignment='right')\n",
    "    axes[0].set_xticks(range(len(years[years.index(startYear):])))\n",
    "    axes[0].set_xticklabels(years[years.index(startYear):], rotation=90)\n",
    "    axes[0].set_xlabel('Predictions')\n",
    "    axes[0].set_ylabel('Error Metric')\n",
    "    axes[0].set_yticks(np.arange(0, 1.1, 0.1))\n",
    "\n",
    "\n",
    "    # Plot a boxplot in 2nd tile\n",
    "    axes[1].boxplot(avg_precisions)\n",
    "    axes[1].set_xticklabels([''])\n",
    "    axes[1].set_xlabel('Spread')\n",
    "    axes[1].set_yticks(axes[0].get_yticks())\n",
    "    axes[1].set_yticks(np.arange(0, 1.1, 0.1))\n",
    "    axes[1].grid(axis='y', linestyle='--', alpha=0.7)\n",
    "    \n",
    "    # Display plot\n",
    "    plt.tight_layout()\n",
    "    plt.show()\n",
    "    plt.close()"
   ]
  },
  {
   "cell_type": "markdown",
   "id": "c51dacab",
   "metadata": {},
   "source": [
    "The plot below tells us how the model (`Ridge` in this case) has performed based on our `Error metric` through th back-testing. Each year on the bar chart represent the model's prediction for that year, using the stats data available from previous years (from 1991 in this case). \n",
    "\n",
    "This gives us an idea of the consitency of predictions and highlights particularly bad years for the model - giving us a starting point for modelling improvement. It'll also allow us to quickly assess if different models perform better or worse."
   ]
  },
  {
   "cell_type": "code",
   "execution_count": 21,
   "id": "5e892aee",
   "metadata": {},
   "outputs": [
    {
     "data": {
      "image/png": "[encoded data removed]",
      "text/plain": [
       "<Figure size 1000x400 with 2 Axes>"
      ]
     },
     "metadata": {},
     "output_type": "display_data"
    }
   ],
   "source": [
    "track_error_metric(stats=stats, predictors=predictors, model=reg, topX=5, startYear=1996)"
   ]
  },
  {
   "cell_type": "markdown",
   "id": "130e7f47",
   "metadata": {},
   "source": [
    "## Diagnosis of model performance"
   ]
  },
  {
   "cell_type": "markdown",
   "id": "9c664287",
   "metadata": {},
   "source": [
    "We can look at `all_predictions` to see what the model hasn't predicted so well. \n",
    "\n",
    "Looking at the largest \"under predictions\" of the model gives us a few data point to go look at if we want to give in deeper (i.e., we might want to go look at the team results, the position and/or the stats of these player to see what made the model \"under value\" their season). We might see trends emerge (e.g., a certain position tends to be \"under valued\". We can then tweak the model if need be.\n",
    "\n",
    "*Note: in this case we're only interested in looking at the Top 5 or Top 10 as we have been throughout this project. We have no interest in understanding mis-predicted ranks at the bottom & only a handfull of players actually get MVP votes anyway!*"
   ]
  },
  {
   "cell_type": "code",
   "execution_count": 22,
   "id": "57c525d1",
   "metadata": {},
   "outputs": [
    {
     "data": {
      "text/html": [
       "<div>\n",
       "<style scoped>\n",
       "    .dataframe tbody tr th:only-of-type {\n",
       "        vertical-align: middle;\n",
       "    }\n",
       "\n",
       "    .dataframe tbody tr th {\n",
       "        vertical-align: top;\n",
       "    }\n",
       "\n",
       "    .dataframe thead th {\n",
       "        text-align: right;\n",
       "    }\n",
       "</style>\n",
       "<table border=\"1\" class=\"dataframe\">\n",
       "  <thead>\n",
       "    <tr style=\"text-align: right;\">\n",
       "      <th></th>\n",
       "      <th>Player</th>\n",
       "      <th>Share</th>\n",
       "      <th>Predictions</th>\n",
       "      <th>Rank</th>\n",
       "      <th>Predicted_Rank</th>\n",
       "      <th>Difference</th>\n",
       "      <th>Year</th>\n",
       "    </tr>\n",
       "  </thead>\n",
       "  <tbody>\n",
       "    <tr>\n",
       "      <th>1441</th>\n",
       "      <td>Jason Kidd</td>\n",
       "      <td>0.712</td>\n",
       "      <td>0.028210</td>\n",
       "      <td>2</td>\n",
       "      <td>52</td>\n",
       "      <td>-50</td>\n",
       "      <td>2002</td>\n",
       "    </tr>\n",
       "    <tr>\n",
       "      <th>9009</th>\n",
       "      <td>Glen Rice</td>\n",
       "      <td>0.117</td>\n",
       "      <td>0.033110</td>\n",
       "      <td>5</td>\n",
       "      <td>53</td>\n",
       "      <td>-48</td>\n",
       "      <td>1997</td>\n",
       "    </tr>\n",
       "    <tr>\n",
       "      <th>5674</th>\n",
       "      <td>Steve Nash</td>\n",
       "      <td>0.839</td>\n",
       "      <td>0.034100</td>\n",
       "      <td>1</td>\n",
       "      <td>45</td>\n",
       "      <td>-44</td>\n",
       "      <td>2005</td>\n",
       "    </tr>\n",
       "    <tr>\n",
       "      <th>9277</th>\n",
       "      <td>Peja Stojaković</td>\n",
       "      <td>0.228</td>\n",
       "      <td>0.036270</td>\n",
       "      <td>4</td>\n",
       "      <td>38</td>\n",
       "      <td>-34</td>\n",
       "      <td>2004</td>\n",
       "    </tr>\n",
       "    <tr>\n",
       "      <th>5692</th>\n",
       "      <td>Steve Nash</td>\n",
       "      <td>0.739</td>\n",
       "      <td>0.054129</td>\n",
       "      <td>1</td>\n",
       "      <td>34</td>\n",
       "      <td>-33</td>\n",
       "      <td>2006</td>\n",
       "    </tr>\n",
       "    <tr>\n",
       "      <th>13800</th>\n",
       "      <td>Joakim Noah</td>\n",
       "      <td>0.258</td>\n",
       "      <td>0.046968</td>\n",
       "      <td>4</td>\n",
       "      <td>37</td>\n",
       "      <td>-33</td>\n",
       "      <td>2014</td>\n",
       "    </tr>\n",
       "    <tr>\n",
       "      <th>4010</th>\n",
       "      <td>Chauncey Billups</td>\n",
       "      <td>0.344</td>\n",
       "      <td>0.052696</td>\n",
       "      <td>5</td>\n",
       "      <td>35</td>\n",
       "      <td>-30</td>\n",
       "      <td>2006</td>\n",
       "    </tr>\n",
       "    <tr>\n",
       "      <th>1606</th>\n",
       "      <td>Chris Paul</td>\n",
       "      <td>0.138</td>\n",
       "      <td>0.072293</td>\n",
       "      <td>5</td>\n",
       "      <td>33</td>\n",
       "      <td>-28</td>\n",
       "      <td>2021</td>\n",
       "    </tr>\n",
       "    <tr>\n",
       "      <th>5707</th>\n",
       "      <td>Steve Nash</td>\n",
       "      <td>0.785</td>\n",
       "      <td>0.074421</td>\n",
       "      <td>2</td>\n",
       "      <td>21</td>\n",
       "      <td>-19</td>\n",
       "      <td>2007</td>\n",
       "    </tr>\n",
       "    <tr>\n",
       "      <th>5151</th>\n",
       "      <td>Tim Hardaway</td>\n",
       "      <td>0.207</td>\n",
       "      <td>0.059984</td>\n",
       "      <td>4</td>\n",
       "      <td>20</td>\n",
       "      <td>-16</td>\n",
       "      <td>1997</td>\n",
       "    </tr>\n",
       "    <tr>\n",
       "      <th>5498</th>\n",
       "      <td>Jason Kidd</td>\n",
       "      <td>0.135</td>\n",
       "      <td>0.050363</td>\n",
       "      <td>5</td>\n",
       "      <td>20</td>\n",
       "      <td>-15</td>\n",
       "      <td>1999</td>\n",
       "    </tr>\n",
       "    <tr>\n",
       "      <th>11349</th>\n",
       "      <td>Scottie Pippen</td>\n",
       "      <td>0.200</td>\n",
       "      <td>0.066921</td>\n",
       "      <td>5</td>\n",
       "      <td>20</td>\n",
       "      <td>-15</td>\n",
       "      <td>1996</td>\n",
       "    </tr>\n",
       "    <tr>\n",
       "      <th>980</th>\n",
       "      <td>Devin Booker</td>\n",
       "      <td>0.216</td>\n",
       "      <td>0.091309</td>\n",
       "      <td>4</td>\n",
       "      <td>17</td>\n",
       "      <td>-13</td>\n",
       "      <td>2022</td>\n",
       "    </tr>\n",
       "    <tr>\n",
       "      <th>12426</th>\n",
       "      <td>Tony Parker</td>\n",
       "      <td>0.274</td>\n",
       "      <td>0.076004</td>\n",
       "      <td>5</td>\n",
       "      <td>16</td>\n",
       "      <td>-11</td>\n",
       "      <td>2012</td>\n",
       "    </tr>\n",
       "    <tr>\n",
       "      <th>1374</th>\n",
       "      <td>Gary Payton</td>\n",
       "      <td>0.372</td>\n",
       "      <td>0.076708</td>\n",
       "      <td>3</td>\n",
       "      <td>13</td>\n",
       "      <td>-10</td>\n",
       "      <td>1998</td>\n",
       "    </tr>\n",
       "    <tr>\n",
       "      <th>1072</th>\n",
       "      <td>Allen Iverson</td>\n",
       "      <td>0.270</td>\n",
       "      <td>0.072120</td>\n",
       "      <td>4</td>\n",
       "      <td>14</td>\n",
       "      <td>-10</td>\n",
       "      <td>1999</td>\n",
       "    </tr>\n",
       "    <tr>\n",
       "      <th>7330</th>\n",
       "      <td>Kobe Bryant</td>\n",
       "      <td>0.291</td>\n",
       "      <td>0.078014</td>\n",
       "      <td>4</td>\n",
       "      <td>14</td>\n",
       "      <td>-10</td>\n",
       "      <td>2012</td>\n",
       "    </tr>\n",
       "    <tr>\n",
       "      <th>5755</th>\n",
       "      <td>Carmelo Anthony</td>\n",
       "      <td>0.393</td>\n",
       "      <td>0.083202</td>\n",
       "      <td>3</td>\n",
       "      <td>12</td>\n",
       "      <td>-9</td>\n",
       "      <td>2013</td>\n",
       "    </tr>\n",
       "    <tr>\n",
       "      <th>13908</th>\n",
       "      <td>James Harden</td>\n",
       "      <td>0.068</td>\n",
       "      <td>0.087593</td>\n",
       "      <td>5</td>\n",
       "      <td>14</td>\n",
       "      <td>-9</td>\n",
       "      <td>2014</td>\n",
       "    </tr>\n",
       "    <tr>\n",
       "      <th>7934</th>\n",
       "      <td>Anfernee Hardaway</td>\n",
       "      <td>0.319</td>\n",
       "      <td>0.096954</td>\n",
       "      <td>3</td>\n",
       "      <td>12</td>\n",
       "      <td>-9</td>\n",
       "      <td>1996</td>\n",
       "    </tr>\n",
       "  </tbody>\n",
       "</table>\n",
       "</div>"
      ],
      "text/plain": [
       "                  Player  Share  Predictions  Rank  Predicted_Rank  \\\n",
       "1441          Jason Kidd  0.712     0.028210     2              52   \n",
       "9009           Glen Rice  0.117     0.033110     5              53   \n",
       "5674          Steve Nash  0.839     0.034100     1              45   \n",
       "9277     Peja Stojaković  0.228     0.036270     4              38   \n",
       "5692          Steve Nash  0.739     0.054129     1              34   \n",
       "13800        Joakim Noah  0.258     0.046968     4              37   \n",
       "4010    Chauncey Billups  0.344     0.052696     5              35   \n",
       "1606          Chris Paul  0.138     0.072293     5              33   \n",
       "5707          Steve Nash  0.785     0.074421     2              21   \n",
       "5151        Tim Hardaway  0.207     0.059984     4              20   \n",
       "5498          Jason Kidd  0.135     0.050363     5              20   \n",
       "11349     Scottie Pippen  0.200     0.066921     5              20   \n",
       "980         Devin Booker  0.216     0.091309     4              17   \n",
       "12426        Tony Parker  0.274     0.076004     5              16   \n",
       "1374         Gary Payton  0.372     0.076708     3              13   \n",
       "1072       Allen Iverson  0.270     0.072120     4              14   \n",
       "7330         Kobe Bryant  0.291     0.078014     4              14   \n",
       "5755     Carmelo Anthony  0.393     0.083202     3              12   \n",
       "13908       James Harden  0.068     0.087593     5              14   \n",
       "7934   Anfernee Hardaway  0.319     0.096954     3              12   \n",
       "\n",
       "       Difference  Year  \n",
       "1441          -50  2002  \n",
       "9009          -48  1997  \n",
       "5674          -44  2005  \n",
       "9277          -34  2004  \n",
       "5692          -33  2006  \n",
       "13800         -33  2014  \n",
       "4010          -30  2006  \n",
       "1606          -28  2021  \n",
       "5707          -19  2007  \n",
       "5151          -16  1997  \n",
       "5498          -15  1999  \n",
       "11349         -15  1996  \n",
       "980           -13  2022  \n",
       "12426         -11  2012  \n",
       "1374          -10  1998  \n",
       "1072          -10  1999  \n",
       "7330          -10  2012  \n",
       "5755           -9  2013  \n",
       "13908          -9  2014  \n",
       "7934           -9  1996  "
      ]
     },
     "execution_count": 22,
     "metadata": {},
     "output_type": "execute_result"
    }
   ],
   "source": [
    "all_predictions[all_predictions[\"Rank\"] <= 5].sort_values(\"Difference\").head(20)"
   ]
  },
  {
   "cell_type": "markdown",
   "id": "3fd7a39a",
   "metadata": {},
   "source": [
    "In association with the table above, we can take a look at model's **coefficients** to see which predictors are most influencial on `Share`. We can then look at if any of the players in the df above have reletively low stats in these influencial predictors but excel in others (potentially justifing their high actual rank)."
   ]
  },
  {
   "cell_type": "code",
   "execution_count": 23,
   "id": "d47a7ea3",
   "metadata": {},
   "outputs": [
    {
     "data": {
      "text/html": [
       "<div>\n",
       "<style scoped>\n",
       "    .dataframe tbody tr th:only-of-type {\n",
       "        vertical-align: middle;\n",
       "    }\n",
       "\n",
       "    .dataframe tbody tr th {\n",
       "        vertical-align: top;\n",
       "    }\n",
       "\n",
       "    .dataframe thead th {\n",
       "        text-align: right;\n",
       "    }\n",
       "</style>\n",
       "<table border=\"1\" class=\"dataframe\">\n",
       "  <thead>\n",
       "    <tr style=\"text-align: right;\">\n",
       "      <th></th>\n",
       "      <th>0</th>\n",
       "      <th>1</th>\n",
       "    </tr>\n",
       "  </thead>\n",
       "  <tbody>\n",
       "    <tr>\n",
       "      <th>13</th>\n",
       "      <td>0.104300</td>\n",
       "      <td>eFG%</td>\n",
       "    </tr>\n",
       "    <tr>\n",
       "      <th>18</th>\n",
       "      <td>0.033422</td>\n",
       "      <td>DRB</td>\n",
       "    </tr>\n",
       "    <tr>\n",
       "      <th>29</th>\n",
       "      <td>0.028124</td>\n",
       "      <td>W/L%</td>\n",
       "    </tr>\n",
       "    <tr>\n",
       "      <th>17</th>\n",
       "      <td>0.020394</td>\n",
       "      <td>ORB</td>\n",
       "    </tr>\n",
       "    <tr>\n",
       "      <th>10</th>\n",
       "      <td>0.017390</td>\n",
       "      <td>2P</td>\n",
       "    </tr>\n",
       "    <tr>\n",
       "      <th>21</th>\n",
       "      <td>0.012038</td>\n",
       "      <td>STL</td>\n",
       "    </tr>\n",
       "    <tr>\n",
       "      <th>22</th>\n",
       "      <td>0.010571</td>\n",
       "      <td>BLK</td>\n",
       "    </tr>\n",
       "    <tr>\n",
       "      <th>15</th>\n",
       "      <td>0.010230</td>\n",
       "      <td>FTA</td>\n",
       "    </tr>\n",
       "    <tr>\n",
       "      <th>12</th>\n",
       "      <td>0.008651</td>\n",
       "      <td>2P%</td>\n",
       "    </tr>\n",
       "    <tr>\n",
       "      <th>20</th>\n",
       "      <td>0.006953</td>\n",
       "      <td>AST</td>\n",
       "    </tr>\n",
       "  </tbody>\n",
       "</table>\n",
       "</div>"
      ],
      "text/plain": [
       "           0     1\n",
       "13  0.104300  eFG%\n",
       "18  0.033422   DRB\n",
       "29  0.028124  W/L%\n",
       "17  0.020394   ORB\n",
       "10  0.017390    2P\n",
       "21  0.012038   STL\n",
       "22  0.010571   BLK\n",
       "15  0.010230   FTA\n",
       "12  0.008651   2P%\n",
       "20  0.006953   AST"
      ]
     },
     "execution_count": 23,
     "metadata": {},
     "output_type": "execute_result"
    }
   ],
   "source": [
    "pd.concat([pd.Series(reg.coef_), pd.Series(predictors)], axis=1).sort_values(0, ascending=False).head(10)"
   ]
  },
  {
   "cell_type": "markdown",
   "id": "c5232c91",
   "metadata": {},
   "source": [
    "## Improving our predictions"
   ]
  },
  {
   "cell_type": "markdown",
   "id": "90d053b3",
   "metadata": {},
   "source": [
    "### 1. Add more predictors"
   ]
  },
  {
   "cell_type": "markdown",
   "id": "f6a0d927",
   "metadata": {},
   "source": [
    "We can add some numerical predictors (which a linear model can make use of):"
   ]
  },
  {
   "cell_type": "code",
   "execution_count": 24,
   "id": "c647c123",
   "metadata": {},
   "outputs": [],
   "source": [
    "# Calculate the ratio of key stats\n",
    "stats_ratios = stats[['PTS', 'ORB', 'DRB', 'TRB', 'AST', 'STL', 'BLK', 'TOV','Year']] \\\n",
    "    .groupby('Year', group_keys=False) \\\n",
    "    .apply(lambda x: x/x.mean())\n",
    "\n",
    "# Add these new stats to the df \n",
    "stats[['PTS_R', 'ORB_R', 'DRB_R', 'TRB_R', 'AST_R', 'STL_R', 'BLK_R', 'TOV_R']] = \\\n",
    "    stats_ratios[['PTS', 'ORB', 'DRB', 'TRB', 'AST', 'STL', 'BLK', 'TOV']]\n",
    "\n",
    "# include them into the predictors\n",
    "predictors += ['PTS_R', 'ORB_R', 'DRB_R', 'TRB_R', 'AST_R', 'STL_R', 'BLK_R', 'TOV_R']"
   ]
  },
  {
   "cell_type": "code",
   "execution_count": 25,
   "id": "4fb328d9",
   "metadata": {},
   "outputs": [],
   "source": [
    "#stats_ratios.head(5)\n",
    "#stats.head(5)"
   ]
  },
  {
   "cell_type": "code",
   "execution_count": 26,
   "id": "0fd485fb",
   "metadata": {},
   "outputs": [],
   "source": [
    "mean_avg_precision, avg_precisions, all_predictions = backtest(\n",
    "    stats, predictors, model=reg, topX=5, startYear=1996)"
   ]
  },
  {
   "cell_type": "code",
   "execution_count": 27,
   "id": "d6f23200",
   "metadata": {},
   "outputs": [],
   "source": [
    "#all_predictions[all_predictions[\"Rank\"] <= 5].sort_values(\"Difference\").head(20)"
   ]
  },
  {
   "cell_type": "code",
   "execution_count": 28,
   "id": "de34390d",
   "metadata": {},
   "outputs": [
    {
     "data": {
      "image/png": "[encoded data removed]",
      "text/plain": [
       "<Figure size 1000x400 with 2 Axes>"
      ]
     },
     "metadata": {},
     "output_type": "display_data"
    }
   ],
   "source": [
    "track_error_metric(stats=stats, predictors=predictors, model=reg, topX=5, startYear=1996)"
   ]
  },
  {
   "cell_type": "markdown",
   "id": "f711c423",
   "metadata": {},
   "source": [
    "In this case, adding predictors hasn't really added anything. The mean average precision is virtually the same and the consistency of the model was also pretty much uneffected. "
   ]
  },
  {
   "cell_type": "markdown",
   "id": "0852bd4d",
   "metadata": {},
   "source": [
    "We can also add some categorical predictors - but a linear regression model won't be able to make use of them effectively (probably would be detrimental to the prediction because by nature a linear model looks at the linear correlations). \n",
    "\n",
    "We'll add 2 new predictors: `nPos` (from players' positions) and `nTm` (from players' teams). Even though these are categorical, we'll convert them to a numerical code so that most models can use them. We'll add these as predictors in the section below."
   ]
  },
  {
   "cell_type": "code",
   "execution_count": 29,
   "id": "927d72e9",
   "metadata": {},
   "outputs": [],
   "source": [
    "stats[\"nPos\"] = stats.Pos.astype('category').cat.codes\n",
    "stats[\"nTm\"] = stats.Tm.astype('category').cat.codes"
   ]
  },
  {
   "cell_type": "markdown",
   "id": "fdb83758",
   "metadata": {},
   "source": [
    "### 2. Using a different model"
   ]
  },
  {
   "cell_type": "markdown",
   "id": "9f871347",
   "metadata": {},
   "source": [
    "We're now going to try a different model: **Random Forest model**. \n",
    "\n",
    "Briefly, this type of models splits and groups the data into different branches. Will run predictions for each branches and then average them. (Very high level! Need to go learn about the different ML models!)\n",
    "\n",
    "The great thing is we can use our backtest function to run the prediction using different models and predicors!\n",
    "\n",
    "*RandomForestRegressor Note:\n",
    "\n",
    "- `n_estimator` is the number of branches (higher is more accurate but longer!)\n",
    "- `random_state = 1` means that we want the results to be the same if we ran the same test\n",
    "- `min_samples_split` each branch split needs to use a minimum of variable/columns to make a prediction (higher = quicker, less accurate but also less prone to over-fitting)\n",
    "- can take a fair bit of time! (we'll experiment with different rf settings & we can also run our back-testing function from a more recent year)"
   ]
  },
  {
   "cell_type": "code",
   "execution_count": 30,
   "id": "77b8f739",
   "metadata": {},
   "outputs": [],
   "source": [
    "from sklearn.ensemble import RandomForestRegressor\n",
    "\n",
    "rf = RandomForestRegressor(n_estimators=100, random_state=1, min_samples_split=5)"
   ]
  },
  {
   "cell_type": "code",
   "execution_count": 31,
   "id": "189d68a6",
   "metadata": {},
   "outputs": [],
   "source": [
    "predictors_2 = predictors + [\"nPos\", \"nTm\"]"
   ]
  },
  {
   "cell_type": "code",
   "execution_count": 32,
   "id": "3da1be8e",
   "metadata": {},
   "outputs": [
    {
     "data": {
      "image/png": "[encoded data removed]",
      "text/plain": [
       "<Figure size 1000x400 with 2 Axes>"
      ]
     },
     "metadata": {},
     "output_type": "display_data"
    }
   ],
   "source": [
    "error_metric_rf = track_error_metric(stats=stats, predictors=predictors_2, model=rf, topX=5, startYear=1996)"
   ]
  },
  {
   "cell_type": "markdown",
   "id": "f8238910",
   "metadata": {},
   "source": [
    "For consitency, we'll compare to the **Ridge model** (making sure we use the same start year if we changed it for the random forest model)"
   ]
  },
  {
   "cell_type": "code",
   "execution_count": 33,
   "id": "bb1d2187",
   "metadata": {},
   "outputs": [
    {
     "data": {
      "image/png": "[encoded data removed]",
      "text/plain": [
       "<Figure size 1000x400 with 2 Axes>"
      ]
     },
     "metadata": {},
     "output_type": "display_data"
    }
   ],
   "source": [
    "error_metric_ridge = track_error_metric(stats=stats, predictors=predictors, model=reg, topX=5, startYear=1996)"
   ]
  },
  {
   "cell_type": "markdown",
   "id": "37ac4d45",
   "metadata": {},
   "source": [
    "The Random Forest model has performed better at predicting the Top 5 (on the basis of our error metric) - as expected. However it hasn't solved the irregularity/spread of predictions, we'd need to look at some of next steps ideas below to address this issue!"
   ]
  },
  {
   "cell_type": "markdown",
   "id": "e3616860",
   "metadata": {},
   "source": [
    "## Some next steps ideas"
   ]
  },
  {
   "cell_type": "markdown",
   "id": "5ad66588",
   "metadata": {},
   "source": [
    "* Play around with `alpha` for Ridge model\n",
    "* Design a unit test to find the optimal parameters for our Random Forest model (i.e., maximise our mean avgerage precision metric)\n",
    "* Experiment with other ML models\n",
    "* Consider other predictors, maybe different grouping too\n",
    "* Could experiment with a slightly different aim - and therefore error metric."
   ]
  }
 ],
 "metadata": {
  "kernelspec": {
   "display_name": "Python 3 (ipykernel)",
   "language": "python",
   "name": "python3"
  },
  "language_info": {
   "codemirror_mode": {
    "name": "ipython",
    "version": 3
   },
   "file_extension": ".py",
   "mimetype": "text/x-python",
   "name": "python",
   "nbconvert_exporter": "python",
   "pygments_lexer": "ipython3",
   "version": "3.10.9"
  }
 },
 "nbformat": 4,
 "nbformat_minor": 5
}
